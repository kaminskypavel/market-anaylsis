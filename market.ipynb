{
 "cells": [
  {
   "cell_type": "code",
   "execution_count": 1,
   "metadata": {},
   "outputs": [],
   "source": [
    "# Import required libraries\n",
    "import yfinance as yf\n",
    "import pandas as pd\n",
    "import sqlite3\n",
    "import os\n",
    "from datetime import datetime\n",
    "from tqdm.notebook import tqdm\n",
    "\n",
    "# Define the data directory\n",
    "DATA_DIR = \"./data\""
   ]
  },
  {
   "cell_type": "code",
   "execution_count": 8,
   "metadata": {},
   "outputs": [
    {
     "name": "stdout",
     "output_type": "stream",
     "text": [
      "Starting data collection and storage process...\n"
     ]
    },
    {
     "data": {
      "application/vnd.jupyter.widget-view+json": {
       "model_id": "4c990b517dc444aa8e90088a1f46a83f",
       "version_major": 2,
       "version_minor": 0
      },
      "text/plain": [
       "Processing Stocks:   0%|          | 0/503 [00:00<?, ?stock/s]"
      ]
     },
     "metadata": {},
     "output_type": "display_data"
    },
    {
     "name": "stderr",
     "output_type": "stream",
     "text": [
      "$BRK.B: possibly delisted; no timezone found\n",
      "$BF.B: possibly delisted; no price data found  (1d 1925-09-16 -> 2024-08-22)\n"
     ]
    },
    {
     "name": "stdout",
     "output_type": "stream",
     "text": [
      "\n",
      "Process completed. Total valid tickers: 501\n",
      "First 10 valid tickers: ['MMM', 'AOS', 'ABT', 'ABBV', 'ACN', 'ADBE', 'AMD', 'AES', 'AFL', 'A']\n"
     ]
    }
   ],
   "source": [
    "def ensure_dir(directory):\n",
    "    if not os.path.exists(directory):\n",
    "        os.makedirs(directory)\n",
    "\n",
    "\n",
    "def get_and_store_data(tickers):\n",
    "    valid_tickers = []\n",
    "\n",
    "    # Ensure data directory exists\n",
    "    ensure_dir(DATA_DIR)\n",
    "\n",
    "    # Create subdirectories for SQLite and Parquet files\n",
    "    sqlite_dir = os.path.join(DATA_DIR, \"sqlite\")\n",
    "    parquet_dir = os.path.join(DATA_DIR, \"parquet\")\n",
    "    ensure_dir(sqlite_dir)\n",
    "    ensure_dir(parquet_dir)\n",
    "\n",
    "    # SQLite database path\n",
    "    db_path = os.path.join(sqlite_dir, \"full_stock_data.sqlite\")\n",
    "    conn = sqlite3.connect(db_path)\n",
    "\n",
    "    # Create progress bar\n",
    "    pbar = tqdm(tickers, desc=\"Processing Stocks\", unit=\"stock\")\n",
    "\n",
    "    for ticker in pbar:\n",
    "        try:\n",
    "            # if file already exists, skip\n",
    "            if os.path.exists(os.path.join(parquet_dir, f\"{ticker}.parquet\")):\n",
    "                pbar.set_description(f\"Skipping {ticker} (already processed)\")\n",
    "                valid_tickers.append(ticker)\n",
    "                continue\n",
    "\n",
    "            stock = yf.Ticker(ticker)\n",
    "\n",
    "            # Get all available history\n",
    "            history = stock.history(period=\"max\")\n",
    "\n",
    "            if not history.empty:\n",
    "                valid_tickers.append(ticker)\n",
    "\n",
    "                # Store in SQLite\n",
    "                history.to_sql(ticker, conn, if_exists=\"replace\")\n",
    "\n",
    "                # Store as Parquet\n",
    "                parquet_path = os.path.join(parquet_dir, f\"{ticker}.parquet\")\n",
    "                history.to_parquet(parquet_path)\n",
    "\n",
    "                # Update progress bar description\n",
    "                pbar.set_description(\n",
    "                    f\"Processed {ticker} ({history.index[0].date()} to {history.index[-1].date()})\"\n",
    "                )\n",
    "            else:\n",
    "                pbar.set_description(f\"No data for {ticker}\")\n",
    "\n",
    "        except Exception as e:\n",
    "            pbar.set_description(\n",
    "                f\"Error with {ticker}: {str(e)[:50]}...\"\n",
    "            )  # Truncate long error messages\n",
    "\n",
    "    conn.close()\n",
    "    return valid_tickers\n",
    "\n",
    "\n",
    "# Get S&P 500 components\n",
    "sp500 = pd.read_html(\"https://en.wikipedia.org/wiki/List_of_S%26P_500_companies\")[0]\n",
    "sp500_tickers = sp500[\"Symbol\"].tolist()\n",
    "\n",
    "print(\"Starting data collection and storage process...\")\n",
    "valid_tickers = get_and_store_data(sp500_tickers)\n",
    "\n",
    "print(f\"\\nProcess completed. Total valid tickers: {len(valid_tickers)}\")\n",
    "print(f\"First 10 valid tickers: {valid_tickers[:10]}\")\n"
   ]
  },
  {
   "cell_type": "code",
   "execution_count": 9,
   "metadata": {},
   "outputs": [
    {
     "name": "stdout",
     "output_type": "stream",
     "text": [
      "                        Date      Open      High       Low     Close  \\\n",
      "0  1980-12-12 00:00:00-05:00  0.098943  0.099373  0.098943  0.098943   \n",
      "1  1980-12-15 00:00:00-05:00  0.094211  0.094211  0.093781  0.093781   \n",
      "2  1980-12-16 00:00:00-05:00  0.087328  0.087328  0.086898  0.086898   \n",
      "3  1980-12-17 00:00:00-05:00  0.089049  0.089479  0.089049  0.089049   \n",
      "4  1980-12-18 00:00:00-05:00  0.091630  0.092061  0.091630  0.091630   \n",
      "\n",
      "      Volume  Dividends  Stock Splits  \n",
      "0  469033600        0.0           0.0  \n",
      "1  175884800        0.0           0.0  \n",
      "2  105728000        0.0           0.0  \n",
      "3   86441600        0.0           0.0  \n",
      "4   73449600        0.0           0.0  \n"
     ]
    }
   ],
   "source": [
    "# read data from sqlite\n",
    "\n",
    "def read_data(ticker, source='sqlite'):\n",
    "    if source == 'sqlite':\n",
    "        db_path = os.path.join(DATA_DIR, \"sqlite\", 'full_stock_data.sqlite')\n",
    "        with sqlite3.connect(db_path) as conn:\n",
    "            return pd.read_sql(f\"SELECT * FROM '{ticker}'\", conn)\n",
    "    elif source == 'parquet':\n",
    "        parquet_path = os.path.join(DATA_DIR, \"parquet\", f\"{ticker}.parquet\")\n",
    "        return pd.read_parquet(parquet_path)\n",
    "    else:\n",
    "        raise ValueError(\"Invalid source. Choose 'sqlite' or 'parquet'.\")\n",
    "\n",
    "\n",
    "data = read_data('AAPL')\n",
    "print(data.head())\n"
   ]
  }
 ],
 "metadata": {
  "kernelspec": {
   "display_name": "market-analysis",
   "language": "python",
   "name": "python3"
  },
  "language_info": {
   "codemirror_mode": {
    "name": "ipython",
    "version": 3
   },
   "file_extension": ".py",
   "mimetype": "text/x-python",
   "name": "python",
   "nbconvert_exporter": "python",
   "pygments_lexer": "ipython3",
   "version": "3.12.4"
  }
 },
 "nbformat": 4,
 "nbformat_minor": 2
}
