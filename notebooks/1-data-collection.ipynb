{
 "cells": [
  {
   "cell_type": "code",
   "execution_count": 1,
   "metadata": {},
   "outputs": [],
   "source": [
    "# Import required libraries\n",
    "import yfinance as yf\n",
    "import pandas as pd\n",
    "import sqlite3\n",
    "import os\n",
    "from datetime import datetime\n",
    "from tqdm.notebook import tqdm\n",
    "\n",
    "# Define the data directory\n",
    "DATA_DIR = \"./../data\""
   ]
  },
  {
   "cell_type": "markdown",
   "metadata": {},
   "source": [
    "### Load S&P500 stock tickers from wikipedia + get historical data from Yahoo Finance"
   ]
  },
  {
   "cell_type": "markdown",
   "metadata": {},
   "source": []
  },
  {
   "cell_type": "code",
   "execution_count": 2,
   "metadata": {},
   "outputs": [
    {
     "name": "stdout",
     "output_type": "stream",
     "text": [
      "Starting data collection and storage process...\n"
     ]
    },
    {
     "data": {
      "application/vnd.jupyter.widget-view+json": {
       "model_id": "4964ee76cff94b49af7487fde8defc79",
       "version_major": 2,
       "version_minor": 0
      },
      "text/plain": [
       "Processing Stocks:   0%|          | 0/503 [00:00<?, ?stock/s]"
      ]
     },
     "metadata": {},
     "output_type": "display_data"
    },
    {
     "name": "stderr",
     "output_type": "stream",
     "text": [
      "$BRK.B: possibly delisted; no timezone found\n",
      "$BF.B: possibly delisted; no price data found  (1d 1925-09-17 -> 2024-08-23)\n"
     ]
    },
    {
     "name": "stdout",
     "output_type": "stream",
     "text": [
      "\n",
      "Process completed. Total valid tickers: 501\n",
      "First 10 valid tickers: ['MMM', 'AOS', 'ABT', 'ABBV', 'ACN', 'ADBE', 'AMD', 'AES', 'AFL', 'A']\n"
     ]
    }
   ],
   "source": [
    "def ensure_dir(directory):\n",
    "    if not os.path.exists(directory):\n",
    "        os.makedirs(directory)\n",
    "    return directory\n",
    "\n",
    "\n",
    "def get_and_store_data(tickers):\n",
    "    valid_tickers = []\n",
    "\n",
    "    # Ensure data directory exists\n",
    "    ensure_dir(DATA_DIR)\n",
    "\n",
    "    # Create subdirectories for SQLite and Parquet files\n",
    "    parquet_dir = os.path.join(DATA_DIR, \"parquet\")\n",
    "    ensure_dir(parquet_dir)\n",
    "\n",
    "\n",
    "    # Create progress bar\n",
    "    pbar = tqdm(tickers, desc=\"Processing Stocks\", unit=\"stock\")\n",
    "\n",
    "    for ticker in pbar:\n",
    "        try:\n",
    "            # if file already exists, skip\n",
    "            if os.path.exists(os.path.join(parquet_dir, f\"{ticker}.parquet\")):\n",
    "                pbar.set_description(f\"Skipping {ticker} (already processed)\")\n",
    "                valid_tickers.append(ticker)\n",
    "                continue\n",
    "\n",
    "            stock = yf.Ticker(ticker)\n",
    "\n",
    "            # Get all available history\n",
    "            history = stock.history(period=\"max\")\n",
    "\n",
    "            if not history.empty:\n",
    "                valid_tickers.append(ticker)\n",
    "\n",
    "                # Store as Parquet\n",
    "                parquet_path = os.path.join(parquet_dir, f\"{ticker}.parquet\")\n",
    "                history.to_parquet(parquet_path)\n",
    "\n",
    "                # Update progress bar description\n",
    "                pbar.set_description(\n",
    "                    f\"Processed {ticker} ({history.index[0].date()} to {history.index[-1].date()})\"\n",
    "                )\n",
    "            else:\n",
    "                pbar.set_description(f\"No data for {ticker}\")\n",
    "\n",
    "        except Exception as e:\n",
    "            pbar.set_description(\n",
    "                f\"Error with {ticker}: {str(e)[:50]}...\"\n",
    "            )  # Truncate long error messages\n",
    "\n",
    "    return valid_tickers\n",
    "\n",
    "\n",
    "# Get S&P 500 components\n",
    "sp500 = pd.read_html(\"https://en.wikipedia.org/wiki/List_of_S%26P_500_companies\")[0]\n",
    "sp500_tickers = sp500[\"Symbol\"].tolist()\n",
    "\n",
    "print(\"Starting data collection and storage process...\")\n",
    "valid_tickers = get_and_store_data(sp500_tickers)\n",
    "\n",
    "print(f\"\\nProcess completed. Total valid tickers: {len(valid_tickers)}\")\n",
    "print(f\"First 10 valid tickers: {valid_tickers[:10]}\")\n"
   ]
  },
  {
   "cell_type": "markdown",
   "metadata": {},
   "source": [
    "### (optional) convert .parquet to sqlite for easier querying"
   ]
  },
  {
   "cell_type": "code",
   "execution_count": 3,
   "metadata": {},
   "outputs": [
    {
     "data": {
      "application/vnd.jupyter.widget-view+json": {
       "model_id": "35d999500bd24142adef37efe699d9e7",
       "version_major": 2,
       "version_minor": 0
      },
      "text/plain": [
       "Processing Stocks:   0%|          | 0/501 [00:00<?, ?stock/s]"
      ]
     },
     "metadata": {},
     "output_type": "display_data"
    }
   ],
   "source": [
    "# construct the SQLite database from the Parquet files\n",
    "\n",
    "def construct_sqlite_db():\n",
    "    \n",
    "    tickers, db_path = valid_tickers, os.path.join(DATA_DIR,\"sqlite\", \"stock_data.sqlite\")\n",
    "    \n",
    "    # remove file if it already exists\n",
    "    if os.path.exists(db_path):\n",
    "        os.remove(db_path)\n",
    "    \n",
    "    # Connect to SQLite database\n",
    "    conn = sqlite3.connect(db_path)\n",
    "    c = conn.cursor()\n",
    "\n",
    "    # Create table\n",
    "    c.execute(\n",
    "        \"\"\"\n",
    "        CREATE TABLE IF NOT EXISTS stock_data (\n",
    "            Ticker TEXT,\n",
    "            Date TEXT,\n",
    "            Open REAL,\n",
    "            High REAL,\n",
    "            Low REAL,\n",
    "            Close REAL,\n",
    "            Volume INTEGER,\n",
    "            Dividends REAL,\n",
    "            Stock_Splits REAL\n",
    "        )\n",
    "        \"\"\"\n",
    "    )\n",
    "\n",
    "    # Insert data\n",
    "    for ticker in tqdm(tickers, desc=\"Processing Stocks\", unit=\"stock\"):\n",
    "        parquet_path = os.path.join(DATA_DIR, \"parquet\", f\"{ticker}.parquet\")\n",
    "        stock_data = pd.read_parquet(parquet_path)\n",
    "\n",
    "        # Add ticker column\n",
    "        stock_data[\"Ticker\"] = ticker\n",
    "        \n",
    "        stock_data[\"Stock_Splits\"] = stock_data[\"Stock Splits\"]\n",
    "        stock_data.drop(columns=[\"Stock Splits\"], inplace=True)\n",
    "\n",
    "        # Insert into SQLite\n",
    "        stock_data.to_sql(\"stock_data\", conn, if_exists=\"append\", index=True)\n",
    "\n",
    "    # Commit and close\n",
    "    conn.commit()\n",
    "    conn.close()\n",
    "    \n",
    "    \n",
    "construct_sqlite_db()\n"
   ]
  },
  {
   "cell_type": "markdown",
   "metadata": {},
   "source": [
    "### (optional) Load data from sqlite to pandas dataframe and serialize to parquet"
   ]
  },
  {
   "cell_type": "code",
   "execution_count": 1,
   "metadata": {},
   "outputs": [
    {
     "ename": "NameError",
     "evalue": "name 'ensure_dir' is not defined",
     "output_type": "error",
     "traceback": [
      "\u001b[1;31m---------------------------------------------------------------------------\u001b[0m",
      "\u001b[1;31mNameError\u001b[0m                                 Traceback (most recent call last)",
      "Cell \u001b[1;32mIn[1], line 1\u001b[0m\n\u001b[1;32m----> 1\u001b[0m output_dir \u001b[38;5;241m=\u001b[39m ensure_dir(os\u001b[38;5;241m.\u001b[39mpath\u001b[38;5;241m.\u001b[39mjoin(DATA_DIR, \u001b[38;5;124m\"\u001b[39m\u001b[38;5;124mdata_frame\u001b[39m\u001b[38;5;124m\"\u001b[39m))\n\u001b[0;32m      2\u001b[0m \u001b[38;5;28mprint\u001b[39m(\u001b[38;5;124mf\u001b[39m\u001b[38;5;124m\"\u001b[39m\u001b[38;5;124mOutput directory: \u001b[39m\u001b[38;5;132;01m{\u001b[39;00moutput_dir\u001b[38;5;132;01m}\u001b[39;00m\u001b[38;5;124m\"\u001b[39m)\n\u001b[0;32m      4\u001b[0m df \u001b[38;5;241m=\u001b[39m pd\u001b[38;5;241m.\u001b[39mread_sql_query(\u001b[38;5;124m\"\u001b[39m\u001b[38;5;124mSELECT * FROM stock_data\u001b[39m\u001b[38;5;124m\"\u001b[39m, sqlite3\u001b[38;5;241m.\u001b[39mconnect(os\u001b[38;5;241m.\u001b[39mpath\u001b[38;5;241m.\u001b[39mjoin(DATA_DIR, \u001b[38;5;124m\"\u001b[39m\u001b[38;5;124msqlite\u001b[39m\u001b[38;5;124m\"\u001b[39m, \u001b[38;5;124m\"\u001b[39m\u001b[38;5;124mstock_data.sqlite\u001b[39m\u001b[38;5;124m\"\u001b[39m)))\n",
      "\u001b[1;31mNameError\u001b[0m: name 'ensure_dir' is not defined"
     ]
    }
   ],
   "source": [
    "output_dir = ensure_dir(os.path.join(DATA_DIR, \"data_frame\"))\n",
    "print(f\"Output directory: {output_dir}\")\n",
    "\n",
    "df = pd.read_sql_query(\"SELECT * FROM stock_data\", sqlite3.connect(os.path.join(DATA_DIR, \"sqlite\", \"stock_data.sqlite\")))\n",
    "print(f\"Number of rows in SQLite database: {len(df)}\")\n",
    "\n",
    "df.to_parquet(f\"{output_dir}/stock_data.parquet\")\n",
    "\n",
    "df = pd.read_parquet(f\"{output_dir}/stock_data.parquet\")\n",
    "print(f\"Number of rows in Parquet file: {len(df)}\")"
   ]
  }
 ],
 "metadata": {
  "kernelspec": {
   "display_name": "market-analysis",
   "language": "python",
   "name": "python3"
  },
  "language_info": {
   "codemirror_mode": {
    "name": "ipython",
    "version": 3
   },
   "file_extension": ".py",
   "mimetype": "text/x-python",
   "name": "python",
   "nbconvert_exporter": "python",
   "pygments_lexer": "ipython3",
   "version": "3.12.4"
  }
 },
 "nbformat": 4,
 "nbformat_minor": 2
}
